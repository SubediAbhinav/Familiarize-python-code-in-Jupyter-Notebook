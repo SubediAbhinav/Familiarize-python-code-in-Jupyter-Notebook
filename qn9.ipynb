{
 "cells": [
  {
   "cell_type": "code",
   "execution_count": 4,
   "id": "8f1efcc5-920f-421a-8697-0740e1285810",
   "metadata": {},
   "outputs": [
    {
     "data": {
      "text/plain": [
       "{'title': 'Harry Potter', 'author': 'J.K. Rowling', 'year': 1999}"
      ]
     },
     "execution_count": 4,
     "metadata": {},
     "output_type": "execute_result"
    }
   ],
   "source": [
    "book = {'title':'Harry Potter', 'author':'J.K. Rowling', 'year':1999}\n",
    "book"
   ]
  },
  {
   "cell_type": "code",
   "execution_count": 5,
   "id": "55b91182-7e89-4987-8b8e-705484ad8e97",
   "metadata": {},
   "outputs": [],
   "source": [
    "book.update({'year':1999,'year':1997})"
   ]
  },
  {
   "cell_type": "code",
   "execution_count": 7,
   "id": "e17b969c-dde8-4c29-a4d1-cdc6041e6b01",
   "metadata": {},
   "outputs": [
    {
     "data": {
      "text/plain": [
       "{'title': 'Harry Potter', 'author': 'J.K. Rowling', 'year': 1997}"
      ]
     },
     "execution_count": 7,
     "metadata": {},
     "output_type": "execute_result"
    }
   ],
   "source": [
    "book"
   ]
  },
  {
   "cell_type": "code",
   "execution_count": null,
   "id": "729cbf66-fdae-4d01-8d59-0b461fb5888b",
   "metadata": {},
   "outputs": [],
   "source": []
  }
 ],
 "metadata": {
  "kernelspec": {
   "display_name": "Python 3 (ipykernel)",
   "language": "python",
   "name": "python3"
  },
  "language_info": {
   "codemirror_mode": {
    "name": "ipython",
    "version": 3
   },
   "file_extension": ".py",
   "mimetype": "text/x-python",
   "name": "python",
   "nbconvert_exporter": "python",
   "pygments_lexer": "ipython3",
   "version": "3.11.7"
  }
 },
 "nbformat": 4,
 "nbformat_minor": 5
}
