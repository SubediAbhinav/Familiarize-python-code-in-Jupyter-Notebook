{
 "cells": [
  {
   "cell_type": "code",
   "execution_count": 1,
   "id": "05ddd234-6750-474d-ad81-a61534efef6d",
   "metadata": {},
   "outputs": [
    {
     "data": {
      "text/plain": [
       "{'Kathmandu': 2041587, 'Pokhara': 458000, 'Birgunj': 272382}"
      ]
     },
     "execution_count": 1,
     "metadata": {},
     "output_type": "execute_result"
    }
   ],
   "source": [
    "city = {'Kathmandu':2041587, 'Pokhara':458000, 'Birgunj':272382}\n",
    "city"
   ]
  },
  {
   "cell_type": "code",
   "execution_count": 3,
   "id": "003983f6-1cea-4921-a858-6032a8d1972b",
   "metadata": {},
   "outputs": [
    {
     "data": {
      "text/plain": [
       "{'Kathmandu': 2041587, 'Pokhara': 458000}"
      ]
     },
     "execution_count": 3,
     "metadata": {},
     "output_type": "execute_result"
    }
   ],
   "source": [
    "del city['Birgunj']\n",
    "city"
   ]
  },
  {
   "cell_type": "code",
   "execution_count": null,
   "id": "c9444e21-16df-4c8e-8e0c-40c753a98b02",
   "metadata": {},
   "outputs": [],
   "source": []
  }
 ],
 "metadata": {
  "kernelspec": {
   "display_name": "Python 3 (ipykernel)",
   "language": "python",
   "name": "python3"
  },
  "language_info": {
   "codemirror_mode": {
    "name": "ipython",
    "version": 3
   },
   "file_extension": ".py",
   "mimetype": "text/x-python",
   "name": "python",
   "nbconvert_exporter": "python",
   "pygments_lexer": "ipython3",
   "version": "3.11.7"
  }
 },
 "nbformat": 4,
 "nbformat_minor": 5
}
