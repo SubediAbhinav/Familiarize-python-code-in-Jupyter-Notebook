{
 "cells": [
  {
   "cell_type": "code",
   "execution_count": 1,
   "id": "1baf3cab-a531-476c-85c2-90cf1d38e744",
   "metadata": {},
   "outputs": [
    {
     "data": {
      "text/plain": [
       "['Interstellar', 'Jatrai Jatra']"
      ]
     },
     "execution_count": 1,
     "metadata": {},
     "output_type": "execute_result"
    }
   ],
   "source": [
    "list_FavMovie = ['Interstellar', 'Jatrai Jatra']\n",
    "list_FavMovie\n"
   ]
  },
  {
   "cell_type": "code",
   "execution_count": 3,
   "id": "2f0b95ad-6962-4b4a-bad0-028e0d9c567d",
   "metadata": {},
   "outputs": [
    {
     "data": {
      "text/plain": [
       "['Interstellar', 'Jatrai Jatra', 'Avatar', 'Avatar']"
      ]
     },
     "execution_count": 3,
     "metadata": {},
     "output_type": "execute_result"
    }
   ],
   "source": [
    "list_FavMovie.append('Avatar')\n",
    "list_FavMovie"
   ]
  },
  {
   "cell_type": "code",
   "execution_count": null,
   "id": "15fd7664-4d9c-4127-b478-16a2d6c872d4",
   "metadata": {},
   "outputs": [],
   "source": []
  }
 ],
 "metadata": {
  "kernelspec": {
   "display_name": "Python 3 (ipykernel)",
   "language": "python",
   "name": "python3"
  },
  "language_info": {
   "codemirror_mode": {
    "name": "ipython",
    "version": 3
   },
   "file_extension": ".py",
   "mimetype": "text/x-python",
   "name": "python",
   "nbconvert_exporter": "python",
   "pygments_lexer": "ipython3",
   "version": "3.11.7"
  }
 },
 "nbformat": 4,
 "nbformat_minor": 5
}
