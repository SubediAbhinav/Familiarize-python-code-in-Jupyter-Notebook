{
 "cells": [
  {
   "cell_type": "code",
   "execution_count": 3,
   "id": "885046fc-d8e9-454b-ae7c-559b6287f8ca",
   "metadata": {},
   "outputs": [],
   "source": [
    "import numpy as np"
   ]
  },
  {
   "cell_type": "code",
   "execution_count": 4,
   "id": "66acecaa-c5c9-49c0-97ab-fc47c101b52c",
   "metadata": {},
   "outputs": [
    {
     "data": {
      "text/plain": [
       "array([ 1,  2,  3,  4,  5,  6,  7,  8,  9, 10])"
      ]
     },
     "execution_count": 4,
     "metadata": {},
     "output_type": "execute_result"
    }
   ],
   "source": [
    "# 1a)\n",
    "one_dim=np.array([1,2,3,4,5,6,7,8,9,10])\n",
    "one_dim"
   ]
  },
  {
   "cell_type": "code",
   "execution_count": 5,
   "id": "63aae11a-9d61-42eb-b653-b0ed34bef404",
   "metadata": {},
   "outputs": [
    {
     "data": {
      "text/plain": [
       "array([[0.15234189, 0.91009687, 0.07609387, 0.74107403],\n",
       "       [0.61340752, 0.56229882, 0.87718103, 0.02652939],\n",
       "       [0.96057097, 0.84475718, 0.5560976 , 0.54290274]])"
      ]
     },
     "execution_count": 5,
     "metadata": {},
     "output_type": "execute_result"
    }
   ],
   "source": [
    "# 1b)\n",
    "two_dim=np.random.rand(3,4)\n",
    "two_dim"
   ]
  },
  {
   "cell_type": "code",
   "execution_count": 6,
   "id": "ba7f4b2b-b908-4c6e-9ade-db6be6642cb0",
   "metadata": {},
   "outputs": [
    {
     "data": {
      "text/plain": [
       "array([[[0., 0., 0., 0.],\n",
       "        [0., 0., 0., 0.],\n",
       "        [0., 0., 0., 0.]],\n",
       "\n",
       "       [[0., 0., 0., 0.],\n",
       "        [0., 0., 0., 0.],\n",
       "        [0., 0., 0., 0.]]])"
      ]
     },
     "execution_count": 6,
     "metadata": {},
     "output_type": "execute_result"
    }
   ],
   "source": [
    "# 1c)\n",
    "three_dim=np.zeros((2,3,4))\n",
    "three_dim"
   ]
  },
  {
   "cell_type": "code",
   "execution_count": 7,
   "id": "30a99c00-b769-4d92-8cc7-289e50ac6ecc",
   "metadata": {},
   "outputs": [
    {
     "data": {
      "text/plain": [
       "array([ 3,  9,  8, 10])"
      ]
     },
     "execution_count": 7,
     "metadata": {},
     "output_type": "execute_result"
    }
   ],
   "source": [
    "# 2a)\n",
    "a=np.array([2,4,6,3])\n",
    "b=np.array([1,5,2,7])\n",
    "\n",
    "add=a+b\n",
    "add"
   ]
  },
  {
   "cell_type": "code",
   "execution_count": 8,
   "id": "b7e40771-6102-48bf-b53a-2850a03ad832",
   "metadata": {},
   "outputs": [
    {
     "data": {
      "text/plain": [
       "array([ 1, -1,  4, -4])"
      ]
     },
     "execution_count": 8,
     "metadata": {},
     "output_type": "execute_result"
    }
   ],
   "source": [
    "sub=a-b\n",
    "sub"
   ]
  },
  {
   "cell_type": "code",
   "execution_count": 9,
   "id": "7b00aa4d-b795-4b92-8bc5-eb77a5710cfc",
   "metadata": {},
   "outputs": [
    {
     "data": {
      "text/plain": [
       "array([ 2, 20, 12, 21])"
      ]
     },
     "execution_count": 9,
     "metadata": {},
     "output_type": "execute_result"
    }
   ],
   "source": [
    "mult=a*b\n",
    "mult"
   ]
  },
  {
   "cell_type": "code",
   "execution_count": 10,
   "id": "c4f97d11-3d8d-4475-a7c9-0da28097c001",
   "metadata": {},
   "outputs": [
    {
     "data": {
      "text/plain": [
       "array([2.        , 0.8       , 3.        , 0.42857143])"
      ]
     },
     "execution_count": 10,
     "metadata": {},
     "output_type": "execute_result"
    }
   ],
   "source": [
    "div=a/b\n",
    "div"
   ]
  },
  {
   "cell_type": "code",
   "execution_count": 11,
   "id": "973a0271-8637-4ad4-a5fe-1156103612fc",
   "metadata": {},
   "outputs": [
    {
     "data": {
      "text/plain": [
       "3.75"
      ]
     },
     "execution_count": 11,
     "metadata": {},
     "output_type": "execute_result"
    }
   ],
   "source": [
    "# 2b)\n",
    "mean=np.mean(a)\n",
    "mean"
   ]
  },
  {
   "cell_type": "code",
   "execution_count": 12,
   "id": "3c22a3c4-01b7-4d28-aeca-cf9872684b5f",
   "metadata": {},
   "outputs": [
    {
     "data": {
      "text/plain": [
       "3.5"
      ]
     },
     "execution_count": 12,
     "metadata": {},
     "output_type": "execute_result"
    }
   ],
   "source": [
    "median=np.median(b)\n",
    "median"
   ]
  },
  {
   "cell_type": "code",
   "execution_count": 13,
   "id": "b047bead-a022-4e45-ac8c-57a08d4cb2e7",
   "metadata": {},
   "outputs": [
    {
     "data": {
      "text/plain": [
       "1.479019945774904"
      ]
     },
     "execution_count": 13,
     "metadata": {},
     "output_type": "execute_result"
    }
   ],
   "source": [
    "stddev=np.std(a)\n",
    "stddev"
   ]
  },
  {
   "cell_type": "code",
   "execution_count": 15,
   "id": "59f81c4c-c150-45a3-9512-a0230ad0fa70",
   "metadata": {},
   "outputs": [
    {
     "data": {
      "text/plain": [
       "array([2, 4, 6, 3])"
      ]
     },
     "execution_count": 15,
     "metadata": {},
     "output_type": "execute_result"
    }
   ],
   "source": [
    "# 2c)\n",
    "a"
   ]
  },
  {
   "cell_type": "code",
   "execution_count": 20,
   "id": "52c756ef-4266-4334-bfdc-41124d8474b0",
   "metadata": {},
   "outputs": [
    {
     "data": {
      "text/plain": [
       "array([[ 1,  2,  3,  4],\n",
       "       [ 5,  6,  7,  8],\n",
       "       [ 9, 10, 11, 12]])"
      ]
     },
     "execution_count": 20,
     "metadata": {},
     "output_type": "execute_result"
    }
   ],
   "source": [
    "a=np.array([1,2,3,4,5,6,7,8,9,10,11,12])\n",
    "b=a.reshape((3,4))\n",
    "b"
   ]
  },
  {
   "cell_type": "code",
   "execution_count": 4,
   "id": "5ea868b6-c3aa-4f6a-9ee3-f8226dfc0601",
   "metadata": {},
   "outputs": [
    {
     "data": {
      "text/plain": [
       "array([[1, 2, 3, 4, 5],\n",
       "       [2, 4, 1, 6, 7]])"
      ]
     },
     "execution_count": 4,
     "metadata": {},
     "output_type": "execute_result"
    }
   ],
   "source": [
    "# 3a\n",
    "arr=np.array([[1,2,3,4,5],[2,4,1,6,7]])\n",
    "arr"
   ]
  },
  {
   "cell_type": "code",
   "execution_count": 23,
   "id": "ffcd0701-630b-4969-bded-3ff848ce68ac",
   "metadata": {},
   "outputs": [
    {
     "data": {
      "text/plain": [
       "array([1, 2, 3, 4, 5])"
      ]
     },
     "execution_count": 23,
     "metadata": {},
     "output_type": "execute_result"
    }
   ],
   "source": [
    "row=arr[0]\n",
    "row"
   ]
  },
  {
   "cell_type": "code",
   "execution_count": 26,
   "id": "b7e7c1e1-93e4-4f97-98d3-85abab4a4729",
   "metadata": {},
   "outputs": [
    {
     "data": {
      "text/plain": [
       "array([5, 7])"
      ]
     },
     "execution_count": 26,
     "metadata": {},
     "output_type": "execute_result"
    }
   ],
   "source": [
    "column=arr[:,4]\n",
    "column"
   ]
  },
  {
   "cell_type": "code",
   "execution_count": 28,
   "id": "e335d5a1-5bdc-49ae-8b59-9d41a1cbf193",
   "metadata": {},
   "outputs": [
    {
     "data": {
      "text/plain": [
       "array([ 1,  2,  3,  4,  5,  6,  7,  8,  9, 10, 11, 12])"
      ]
     },
     "execution_count": 28,
     "metadata": {},
     "output_type": "execute_result"
    }
   ],
   "source": [
    "# 3b)\n",
    "a"
   ]
  },
  {
   "cell_type": "code",
   "execution_count": 30,
   "id": "3fcb63fd-ee45-46d1-92e6-66a185acb29c",
   "metadata": {},
   "outputs": [
    {
     "data": {
      "text/plain": [
       "array([12, 11, 10,  9,  8,  7,  6,  5,  4,  3,  2,  1])"
      ]
     },
     "execution_count": 30,
     "metadata": {},
     "output_type": "execute_result"
    }
   ],
   "source": [
    "reverse=np.flip(a)\n",
    "reverse"
   ]
  },
  {
   "cell_type": "code",
   "execution_count": 31,
   "id": "2a095868-7cde-442f-88b0-f1a5bd429033",
   "metadata": {},
   "outputs": [
    {
     "data": {
      "text/plain": [
       "array([[1, 2, 3, 4, 5],\n",
       "       [2, 4, 1, 6, 7]])"
      ]
     },
     "execution_count": 31,
     "metadata": {},
     "output_type": "execute_result"
    }
   ],
   "source": [
    "arr"
   ]
  },
  {
   "cell_type": "code",
   "execution_count": 32,
   "id": "3855632d-174a-4a0b-9b17-979f31e271ad",
   "metadata": {},
   "outputs": [
    {
     "data": {
      "text/plain": [
       "array([4, 5, 4, 6, 7])"
      ]
     },
     "execution_count": 32,
     "metadata": {},
     "output_type": "execute_result"
    }
   ],
   "source": [
    "condition=arr[arr>3]\n",
    "condition"
   ]
  },
  {
   "cell_type": "code",
   "execution_count": 33,
   "id": "041cc07a-bb31-40a3-a5d0-b03e41b43ecc",
   "metadata": {},
   "outputs": [
    {
     "data": {
      "text/plain": [
       "array([[21, 22, 23, 24, 25],\n",
       "       [22, 24, 21, 26, 27]])"
      ]
     },
     "execution_count": 33,
     "metadata": {},
     "output_type": "execute_result"
    }
   ],
   "source": [
    "# 4\n",
    "scalar=20\n",
    "new_arr=arr+scalar\n",
    "new_arr"
   ]
  },
  {
   "cell_type": "code",
   "execution_count": 38,
   "id": "cefbaa45-ec1f-4504-aacc-a5f3e42766d8",
   "metadata": {},
   "outputs": [
    {
     "data": {
      "text/plain": [
       "array([[ 4, 20,  6, 32],\n",
       "       [ 2,  8, 18, 32]])"
      ]
     },
     "execution_count": 38,
     "metadata": {},
     "output_type": "execute_result"
    }
   ],
   "source": [
    "# 4b)\n",
    "a=np.array([2,4,6,8])\n",
    "b=np.array([[2,5,1,4],[1,2,3,4]])\n",
    "mult=b*a\n",
    "mult"
   ]
  },
  {
   "cell_type": "code",
   "execution_count": 39,
   "id": "50290ffc-2216-4746-b10b-1453cd3087de",
   "metadata": {},
   "outputs": [
    {
     "data": {
      "text/plain": [
       "61"
      ]
     },
     "execution_count": 39,
     "metadata": {},
     "output_type": "execute_result"
    }
   ],
   "source": [
    "# 5a)\n",
    "a=np.array([2,3,1,5])\n",
    "b=np.array([1,5,4,8])\n",
    "c=np.dot(a,b)\n",
    "c"
   ]
  },
  {
   "cell_type": "code",
   "execution_count": 41,
   "id": "30ac9bfe-cb47-4061-9be2-a99b30aae78e",
   "metadata": {},
   "outputs": [
    {
     "data": {
      "text/plain": [
       "array([[14, 28],\n",
       "       [34, 13]])"
      ]
     },
     "execution_count": 41,
     "metadata": {},
     "output_type": "execute_result"
    }
   ],
   "source": [
    "# 5b)\n",
    "a=np.array([[1,3],[4,1]])\n",
    "b=np.array([[8,1],[2,9]])\n",
    "c=np.matmul(a,b)\n",
    "c"
   ]
  },
  {
   "cell_type": "code",
   "execution_count": 42,
   "id": "fee51e91-4fc1-4cf4-b055-831cd2eed91f",
   "metadata": {},
   "outputs": [
    {
     "data": {
      "text/plain": [
       "array([[1, 3],\n",
       "       [4, 1]])"
      ]
     },
     "execution_count": 42,
     "metadata": {},
     "output_type": "execute_result"
    }
   ],
   "source": [
    "# 5c)\n",
    "a"
   ]
  },
  {
   "cell_type": "code",
   "execution_count": 43,
   "id": "b7608033-e625-4115-a364-4f610eb04a41",
   "metadata": {},
   "outputs": [
    {
     "data": {
      "text/plain": [
       "array([[-0.09090909,  0.27272727],\n",
       "       [ 0.36363636, -0.09090909]])"
      ]
     },
     "execution_count": 43,
     "metadata": {},
     "output_type": "execute_result"
    }
   ],
   "source": [
    "inverse=np.linalg.inv(a)\n",
    "inverse"
   ]
  },
  {
   "cell_type": "code",
   "execution_count": 44,
   "id": "a9276377-7357-46b2-b1fd-9e910ea711d2",
   "metadata": {},
   "outputs": [
    {
     "data": {
      "text/plain": [
       "-11.000000000000002"
      ]
     },
     "execution_count": 44,
     "metadata": {},
     "output_type": "execute_result"
    }
   ],
   "source": [
    "det_a=np.linalg.det(a)\n",
    "det_a"
   ]
  },
  {
   "cell_type": "code",
   "execution_count": null,
   "id": "0ba7c5cc-b4dc-4c76-8d07-d05cee819408",
   "metadata": {},
   "outputs": [],
   "source": []
  }
 ],
 "metadata": {
  "kernelspec": {
   "display_name": "Python 3 (ipykernel)",
   "language": "python",
   "name": "python3"
  },
  "language_info": {
   "codemirror_mode": {
    "name": "ipython",
    "version": 3
   },
   "file_extension": ".py",
   "mimetype": "text/x-python",
   "name": "python",
   "nbconvert_exporter": "python",
   "pygments_lexer": "ipython3",
   "version": "3.11.7"
  }
 },
 "nbformat": 4,
 "nbformat_minor": 5
}
