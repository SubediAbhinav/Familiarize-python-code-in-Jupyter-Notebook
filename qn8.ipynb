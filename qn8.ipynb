{
 "cells": [
  {
   "cell_type": "code",
   "execution_count": 1,
   "id": "7e2bb3f8-330c-4729-b4d8-4994e2f979c4",
   "metadata": {},
   "outputs": [
    {
     "data": {
      "text/plain": [
       "('Red', 'Black', 'Blue')"
      ]
     },
     "execution_count": 1,
     "metadata": {},
     "output_type": "execute_result"
    }
   ],
   "source": [
    "tuple_colors = ('Red', 'Black', 'Blue')\n",
    "tuple_colors"
   ]
  },
  {
   "cell_type": "code",
   "execution_count": 2,
   "id": "c1ded9fd-b5de-454a-ac41-a535d3d08063",
   "metadata": {},
   "outputs": [
    {
     "data": {
      "text/plain": [
       "3"
      ]
     },
     "execution_count": 2,
     "metadata": {},
     "output_type": "execute_result"
    }
   ],
   "source": [
    "len(tuple_colors)"
   ]
  },
  {
   "cell_type": "code",
   "execution_count": 6,
   "id": "910c9976-b488-4332-a6b2-9870006f173f",
   "metadata": {},
   "outputs": [
    {
     "name": "stdout",
     "output_type": "stream",
     "text": [
      "('Red', 'Black', 'Blue')\n"
     ]
    }
   ],
   "source": [
    "\n",
    "    if ('Black' in tuple_colors):\n",
    "        print(tuple_colors)\n",
    "    else:\n",
    "        print('Not Present')"
   ]
  },
  {
   "cell_type": "code",
   "execution_count": null,
   "id": "9aa2c91a-df83-4ee4-8ed8-37b54061c132",
   "metadata": {},
   "outputs": [],
   "source": []
  }
 ],
 "metadata": {
  "kernelspec": {
   "display_name": "Python 3 (ipykernel)",
   "language": "python",
   "name": "python3"
  },
  "language_info": {
   "codemirror_mode": {
    "name": "ipython",
    "version": 3
   },
   "file_extension": ".py",
   "mimetype": "text/x-python",
   "name": "python",
   "nbconvert_exporter": "python",
   "pygments_lexer": "ipython3",
   "version": "3.11.7"
  }
 },
 "nbformat": 4,
 "nbformat_minor": 5
}
